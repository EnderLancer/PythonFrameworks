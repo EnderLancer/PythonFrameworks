{
 "cells": [
  {
   "attachments": {
    "Coat_of_arms_of_Burkina_Faso.svg.png": {
     "image/png": "[encoded data removed]"
    }
   },
   "cell_type": "markdown",
   "metadata": {},
   "source": [
    "# Буркіна-Фасо #\n",
    "[Вікі](https://uk.wikipedia.org/wiki/%D0%91%D1%83%D1%80%D0%BA%D1%96%D0%BD%D0%B0-%D0%A4%D0%B0%D1%81%D0%BE)\n",
    "\n",
    "**Розташування:** _Західній Африка_\n",
    "    \n",
    "\n",
    "| Атрибут       | Інформація  |\n",
    "|---------------|-------------|\n",
    "| Площа         | 274 000 км  |\n",
    "| Валюта        | Франк CFA   |\n",
    "| Офіційні мова | Французька  |\n",
    "\n",
    "### Герб ###\n",
    "\n",
    "![Coat_of_arms_of_Burkina_Faso.svg.png](attachment:Coat_of_arms_of_Burkina_Faso.svg.png)\n",
    "\n",
    "<code>Столиця Уагадугу</code>\n",
    "<p>ТОП 3 області за площею:</p>\n",
    "<ul>\n",
    "<li>Східна</li>\n",
    "<li>Сахель</li>\n",
    "<li>Букле-ду-Мухун</li>\n",
    "</ul>"
   ]
  },
  {
   "cell_type": "code",
   "execution_count": 2,
   "metadata": {},
   "outputs": [
    {
     "data": {
      "text/html": [
       "<svg width=\"800\" height=\"600\" xmlns=\"http://www.w3.org/2000/svg\">\n",
       "  <g>\n",
       "    <title>background</title>\n",
       "    <rect fill=\"#fff\" id=\"canvas_background\" height=\"602\" width=\"802\" y=\"-1\" x=\"-1\"/>\n",
       "    <g display=\"none\" overflow=\"visible\" y=\"0\" x=\"0\" height=\"100%\" width=\"100%\" id=\"canvasGrid\">\n",
       "      <rect fill=\"url(#gridpattern)\" stroke-width=\"0\" y=\"0\" x=\"0\" height=\"100%\" width=\"100%\"/>\n",
       "    </g>\n",
       "  </g>\n",
       "  <g>\n",
       "    <title>Layer 1</title>\n",
       "    <rect id=\"svg_1\" height=\"300\" width=\"800\" y=\"-1\" x=\"2\" stroke-width=\"1.5\" fill=\"#ff0000\"/>\n",
       "    <rect id=\"svg_2\" height=\"300\" width=\"795\" y=\"304\" x=\"3\" stroke-width=\"1.5\" fill=\"#00ff00\"/>\n",
       "    <path stroke=\"null\" id=\"svg_3\" d=\"m323.74999,273.09557l57.29531,0l17.70469,-51.18359l17.7047,51.18359l57.2953,0l-46.3528,31.63283l17.70561,51.18359l-46.35282,-31.6337l-46.35281,31.6337l17.70561,-51.18359l-46.35281,-31.63283z\" stroke-width=\"1.5\" fill=\"#ffff00\"/>\n",
       "  </g>\n",
       "</svg>\n"
      ],
      "text/plain": [
       "<IPython.core.display.HTML object>"
      ]
     },
     "metadata": {},
     "output_type": "display_data"
    }
   ],
   "source": [
    "%%HTML\n",
    "<svg width=\"800\" height=\"600\" xmlns=\"http://www.w3.org/2000/svg\">\n",
    "  <g>\n",
    "    <title>background</title>\n",
    "    <rect fill=\"#fff\" id=\"canvas_background\" height=\"602\" width=\"802\" y=\"-1\" x=\"-1\"/>\n",
    "    <g display=\"none\" overflow=\"visible\" y=\"0\" x=\"0\" height=\"100%\" width=\"100%\" id=\"canvasGrid\">\n",
    "      <rect fill=\"url(#gridpattern)\" stroke-width=\"0\" y=\"0\" x=\"0\" height=\"100%\" width=\"100%\"/>\n",
    "    </g>\n",
    "  </g>\n",
    "  <g>\n",
    "    <title>Layer 1</title>\n",
    "    <rect id=\"svg_1\" height=\"300\" width=\"800\" y=\"-1\" x=\"2\" stroke-width=\"1.5\" fill=\"#ff0000\"/>\n",
    "    <rect id=\"svg_2\" height=\"300\" width=\"795\" y=\"304\" x=\"3\" stroke-width=\"1.5\" fill=\"#00ff00\"/>\n",
    "    <path stroke=\"null\" id=\"svg_3\" d=\"m323.74999,273.09557l57.29531,0l17.70469,-51.18359l17.7047,51.18359l57.2953,0l-46.3528,31.63283l17.70561,51.18359l-46.35282,-31.6337l-46.35281,31.6337l17.70561,-51.18359l-46.35281,-31.63283z\" stroke-width=\"1.5\" fill=\"#ffff00\"/>\n",
    "  </g>\n",
    "</svg>"
   ]
  },
  {
   "cell_type": "code",
   "execution_count": 6,
   "metadata": {},
   "outputs": [
    {
     "data": {
      "text/html": [
       "<style>\n",
       ".example{\n",
       "    color:blue;\n",
       "    border:4px double brown;\n",
       "    background: #eee;\n",
       "    padding: 20px;\n",
       "}\n",
       "</style>\n",
       "<div class=\"example\">Hello</div>\n"
      ],
      "text/plain": [
       "<IPython.core.display.HTML object>"
      ]
     },
     "metadata": {},
     "output_type": "display_data"
    }
   ],
   "source": [
    "%%HTML\n",
    "<style>\n",
    ".example{\n",
    "    color:blue;\n",
    "    border:4px double brown;\n",
    "    background: #eee;\n",
    "    padding: 20px;\n",
    "}\n",
    "</style>\n",
    "<div class=\"example\">Hello</div>\n"
   ]
  },
  {
   "cell_type": "code",
   "execution_count": 3,
   "metadata": {},
   "outputs": [],
   "source": [
    "def task_2():\n",
    "    try:\n",
    "        a, b = input().split()\n",
    "        a = int(a)\n",
    "        b = int(b)\n",
    "        result = 'Найбільший спільній дільник {} і {} - це'.format(a, b)\n",
    "        while a !=0 and b != 0:\n",
    "            if a > b:\n",
    "                a %= b\n",
    "            else:\n",
    "                b %= a\n",
    "        print(result, a+b)\n",
    "    except ValueError as VE:\n",
    "        print('Не можливий формат введених значень, потрібно ввести два цілих числа')"
   ]
  },
  {
   "cell_type": "code",
   "execution_count": 4,
   "metadata": {},
   "outputs": [
    {
     "name": "stdout",
     "output_type": "stream",
     "text": [
      "54 72\n",
      "Найбільший спільній дільник 54 і 72 - це 18\n"
     ]
    }
   ],
   "source": [
    "task_2()"
   ]
  },
  {
   "cell_type": "code",
   "execution_count": 5,
   "metadata": {},
   "outputs": [
    {
     "name": "stdout",
     "output_type": "stream",
     "text": [
      "48 96\n",
      "Найбільший спільній дільник 48 і 96 - це 48\n"
     ]
    }
   ],
   "source": [
    "task_2()"
   ]
  },
  {
   "cell_type": "code",
   "execution_count": 6,
   "metadata": {},
   "outputs": [
    {
     "name": "stdout",
     "output_type": "stream",
     "text": [
      "16785 4657654\n",
      "Найбільший спільній дільник 16785 і 4657654 - це 1\n"
     ]
    }
   ],
   "source": [
    "task_2()"
   ]
  },
  {
   "cell_type": "code",
   "execution_count": 4,
   "metadata": {},
   "outputs": [
    {
     "name": "stdout",
     "output_type": "stream",
     "text": [
      "123 deffect\n",
      "Не можливий формат введених значень, потрібно ввести два цілих числа\n"
     ]
    }
   ],
   "source": [
    "task_2()"
   ]
  },
  {
   "cell_type": "code",
   "execution_count": null,
   "metadata": {},
   "outputs": [],
   "source": []
  }
 ],
 "metadata": {
  "kernelspec": {
   "display_name": "Python 3",
   "language": "python",
   "name": "python3"
  },
  "language_info": {
   "codemirror_mode": {
    "name": "ipython",
    "version": 3
   },
   "file_extension": ".py",
   "mimetype": "text/x-python",
   "name": "python",
   "nbconvert_exporter": "python",
   "pygments_lexer": "ipython3",
   "version": "3.7.4"
  }
 },
 "nbformat": 4,
 "nbformat_minor": 2
}
