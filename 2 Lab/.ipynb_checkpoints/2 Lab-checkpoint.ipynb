{
 "cells": [
  {
   "cell_type": "code",
   "execution_count": 180,
   "metadata": {},
   "outputs": [],
   "source": [
    "import numpy as np\n",
    "#3-9, 13, 17, 19\n",
    "\n",
    "def task_3():\n",
    "    try:\n",
    "        inputTXT = '''Вводится 4 числа n, m, r, c. Вивести масив розміру n на m, в якому в кожному r -му рядку і в кожному с-му стовбчику стоять 0, а інші елементи дорівнюють 1.\\n'''\n",
    "        n, m, r, c = [int(i) for i in input(inputTXT).split()]\n",
    "        x = np.ones((n, m))\n",
    "        x[::, ::c] = 0\n",
    "        x[::r, ::] = 0\n",
    "        print(x)\n",
    "    except ValueError as VE:\n",
    "        print('Не можливий формат введених значень, потрібно ввести чотири цілих числа')\n",
    "\n",
    "def task_4():\n",
    "    try:\n",
    "        inputTXT = 'Вводится числа n, m. Вивести масив розміру n на m, в якому в якому у першому рядку (з нульовим індексом) йдуть числа від 0 до m-1, а всі інші елементи дорівнюють 0.\\n'\n",
    "        n, m = [int(i) for i in input(inputTXT).split()]\n",
    "        x = np.arange(n*m)\n",
    "        x = x.reshape(n, m)\n",
    "        x[1::, ::] = 0\n",
    "        print(x)\n",
    "    except ValueError as VE:\n",
    "        print('Не можливий формат введених значень, потрібно ввести два цілих числа')\n",
    "        \n",
    "def task_5():\n",
    "    try:\n",
    "        inputTXT = 'Вводится числа n. Вивести масив розміру n на n, в рядках з парними індексами стоять 1, а в інших - 0.\\n'\n",
    "        n = int(input(inputTXT))\n",
    "        x = np.ones((n, n))\n",
    "        x[1::2, ::] = 0\n",
    "        print(x)\n",
    "    except ValueError as VE:\n",
    "        print('Не можливий формат введених значень, потрібно ввести ціле число')\n",
    "        \n",
    "def task_6():\n",
    "    try:\n",
    "        inputTXT = 'З клавіатури вводится масив. Змінити всі нульові елементи на -1.\\n'\n",
    "        n = [int(i) for i in input(inputTXT).split()]\n",
    "        x = np.array(n)\n",
    "        x[x != 0] = -1\n",
    "        print(x)\n",
    "    except ValueError as VE:\n",
    "        print('Не можливий формат введених значень, потрібно ввести цілі числа')\n",
    "    \n",
    "def task_7():\n",
    "    try:\n",
    "        inputTXT = 'З клавіатури вводится масив. Замінити всі нульові елементи на -1.\\n'\n",
    "        n = [int(i) for i in input(inputTXT).split()]\n",
    "        x = np.array(n)\n",
    "        x[x == 0] = -1\n",
    "        print(x)\n",
    "    except ValueError as VE:\n",
    "        print('Не можливий формат введених значень, потрібно ввести цілі числа')\n",
    "        \n",
    "def task_8():\n",
    "    try:\n",
    "        inputTXT = 'З клавіатури вводится масив. Підрахувати в ньому кількість нульових та ненульових елементів.\\n'\n",
    "        n = [int(i) for i in input(inputTXT).split()]\n",
    "        x = np.array(n)\n",
    "        print('Нулів: ', len(x[x == 0]))\n",
    "        print('Не нулів: ', len(x[x != 0]))\n",
    "    except ValueError as VE:\n",
    "        print('Не можливий формат введених значень, потрібно ввести цілі числа')\n",
    "        \n",
    "def task_9():\n",
    "    try:\n",
    "        inputTXT = 'Вводится числа n. Створити масив значень від n до 0.\\n'\n",
    "        n = int(input(inputTXT))\n",
    "        x = np.arange(n, -1, -1)\n",
    "        print(x)\n",
    "    except ValueError as VE:\n",
    "        print('Не можливий формат введених значень, потрібно ввести ціле число')\n",
    "        \n",
    "def task_13():\n",
    "    try:\n",
    "        n = 4\n",
    "        m = 5\n",
    "        k = 6\n",
    "        h = 100-1\n",
    "        x = (h // (m*k), (h % (m*k))//k, (h % (m*k)) % k)\n",
    "        #x[1::, ::] = 0\n",
    "        print('В матриці {}х{}х{} індексом {} елементу є {}'.format(n, m, k, h+1, str(x)))\n",
    "    except ValueError as VE:\n",
    "        print('Не можливий формат введених значень')\n",
    "        \n",
    "def task_17():\n",
    "    try:\n",
    "        inputTXT = 'Вводится числа n. Заповнити вектор значеннями від 0 до n. Всі значення, що більше n/2 та менші за 3n/4 замінити нулями.\\n'\n",
    "        n = int(input(inputTXT))\n",
    "        x = np.arange(n+1)\n",
    "        l, r = np.split(x, [n//4+1])\n",
    "        r[r < 3*n/4] = 0\n",
    "        print(x)\n",
    "    except ValueError as VE:\n",
    "        print('Не можливий формат введених значень, потрібно ввести два цілих числа')\n",
    "        \n",
    "def task_19():\n",
    "    try: \n",
    "        inputTXT = 'Вводится числа n. Згенерувати вектор із n випадкових чисел в діапазоні від 0 до 99. Визначити кількість унікальних чисел послідовності.\\n'\n",
    "        n = int(input(inputTXT))\n",
    "        x = np.random.randint(0, 99, (n,))\n",
    "        print('В послідовності {} - {} унікальних чисел.'.format(str(x), len(np.unique(x))))\n",
    "    except ValueError as VE:\n",
    "        print('Не можливий формат введених значень, потрібно ввести ціле число')\n",
    "\n",
    "def task_manager():\n",
    "    try: \n",
    "        tasks = {3: task_3, \n",
    "                 4: task_4, \n",
    "                 5: task_5, \n",
    "                 6: task_6, \n",
    "                 7: task_7, \n",
    "                 8: task_8,\n",
    "                 9: task_9,\n",
    "                 13: task_13,\n",
    "                 17: task_17,\n",
    "                 19: task_19}\n",
    "        n = int(input('Оберіть завдання серед списку {}:\\n'.format(list(tasks.keys()))))\n",
    "        if n in tasks:\n",
    "            tasks[n]()\n",
    "        else:\n",
    "            print('Схоже, нема такого завдання')\n",
    "    except ValueError as VE:\n",
    "        print('Не можливий формат введених значень, потрібно ввести ціле число')\n",
    "        \n",
    "def ex_2():\n",
    "    a = np.array([[2, 1, -5, 1],\n",
    "                [1, -3, 0, -6],\n",
    "                [0, 2, -1, 2],\n",
    "                [1, 4, -7, 6]])\n",
    "    b = np.array([8, 9, -5, 0])\n",
    "    detA = np.linalg.det(a)\n",
    "    print('Детермінант основної матриці =', detA)\n",
    "    x = a.copy()\n",
    "    x[::,0] = b\n",
    "    print('\\n{}\\nДетермінант = {}'.format(x, np.linalg.det(x)))\n",
    "    x1 = np.linalg.det(x) / detA\n",
    "    x = a.copy()\n",
    "    x[::,1] = b\n",
    "    print('\\n{}\\nДетермінант{}'.format(x, np.linalg.det(x)))\n",
    "    x2 = np.linalg.det(x) / detA\n",
    "    x = a.copy()\n",
    "    x[::,2] = b\n",
    "    print('\\n{}\\nДетермінант{}'.format(x, np.linalg.det(x)))\n",
    "    x3 = np.linalg.det(x) / detA\n",
    "    x = a.copy()\n",
    "    x[::,3] = b\n",
    "    print('\\n{}\\nДетермінант{}'.format(x, np.linalg.det(x)))\n",
    "    x4 = np.linalg.det(x) / detA\n",
    "    print('Власна реалізація методу Крамера:', x1, x2, x3, x4)\n",
    "    print('Перевірка методом linalg.solve():', np.allclose(np.linalg.solve(a, b), [x1, x2, x3, x4]))\n",
    "    \n",
    "def ex_3():\n",
    "    a = np.array([[5, 3, -1],\n",
    "                  [2, -2, 0],\n",
    "                  [3, -1, 2]])\n",
    "    b = np.array([[1, 4, 16],\n",
    "                  [-3, -2, 0],\n",
    "                  [5, 7, 2]])\n",
    "    print('2(A-0.5B) + AB:\\n', 2*(a-0.5*b)+a*b)\n",
    "    \n",
    "def ex_4():\n",
    "    a = np.array([[4, 2, 1],\n",
    "                  [3, -2, 0],\n",
    "                  [0, -1, 2]])\n",
    "    b = np.array([[2, 0, 2],\n",
    "                  [5, -7, -2],\n",
    "                  [1, 0, -1]])\n",
    "    x = np.linalg.inv(a)@b\n",
    "    print('Множенням матриць A^(-1)*B отримали X:\\n', x)\n",
    "    print('Перевірка, A*X:\\n', np.allclose(a@x, b))\n"
   ]
  },
  {
   "cell_type": "markdown",
   "metadata": {},
   "source": [
    "#### Завдання 1. Виконати вправи 3, 4, 5, 6, 7, 8, 9, 13, 17, 19 ####\n",
    "Для перевірки завдань запустіть у наступній комірці функцію:\n",
    "###### task_manager() ######"
   ]
  },
  {
   "cell_type": "code",
   "execution_count": 165,
   "metadata": {},
   "outputs": [
    {
     "name": "stdout",
     "output_type": "stream",
     "text": [
      "Оберіть завдання серед списку [3, 4, 5, 6, 7, 8, 9, 13, 17, 19]:\n",
      "3\n",
      "Вводится 4 числа n, m, r, c. Вивести масив розміру n на m, в якому в кожному r -му рядку і в кожному с-му стовбчику стоять 0, а інші елементи дорівнюють 1.\n",
      "7 8 4 3\n",
      "[[0. 0. 0. 0. 0. 0. 0. 0.]\n",
      " [0. 1. 1. 0. 1. 1. 0. 1.]\n",
      " [0. 1. 1. 0. 1. 1. 0. 1.]\n",
      " [0. 1. 1. 0. 1. 1. 0. 1.]\n",
      " [0. 0. 0. 0. 0. 0. 0. 0.]\n",
      " [0. 1. 1. 0. 1. 1. 0. 1.]\n",
      " [0. 1. 1. 0. 1. 1. 0. 1.]]\n"
     ]
    }
   ],
   "source": [
    "task_manager()"
   ]
  },
  {
   "cell_type": "code",
   "execution_count": 166,
   "metadata": {},
   "outputs": [
    {
     "name": "stdout",
     "output_type": "stream",
     "text": [
      "Оберіть завдання серед списку [3, 4, 5, 6, 7, 8, 9, 13, 17, 19]:\n",
      "4\n",
      "Вводится числа n, m. Вивести масив розміру n на m, в якому в якому у першому рядку (з нульовим індексом) йдуть числа від 0 до m-1, а всі інші елементи дорівнюють 0.\n",
      "4 9\n",
      "[[0 1 2 3 4 5 6 7 8]\n",
      " [0 0 0 0 0 0 0 0 0]\n",
      " [0 0 0 0 0 0 0 0 0]\n",
      " [0 0 0 0 0 0 0 0 0]]\n"
     ]
    }
   ],
   "source": [
    "task_manager()"
   ]
  },
  {
   "cell_type": "code",
   "execution_count": 167,
   "metadata": {},
   "outputs": [
    {
     "name": "stdout",
     "output_type": "stream",
     "text": [
      "Оберіть завдання серед списку [3, 4, 5, 6, 7, 8, 9, 13, 17, 19]:\n",
      "5\n",
      "Вводится числа n. Вивести масив розміру n на n, в рядках з парними індексами стоять 1, а в інших - 0.\n",
      "5\n",
      "[[1. 1. 1. 1. 1.]\n",
      " [0. 0. 0. 0. 0.]\n",
      " [1. 1. 1. 1. 1.]\n",
      " [0. 0. 0. 0. 0.]\n",
      " [1. 1. 1. 1. 1.]]\n"
     ]
    }
   ],
   "source": [
    "task_manager()"
   ]
  },
  {
   "cell_type": "code",
   "execution_count": 168,
   "metadata": {},
   "outputs": [
    {
     "name": "stdout",
     "output_type": "stream",
     "text": [
      "Оберіть завдання серед списку [3, 4, 5, 6, 7, 8, 9, 13, 17, 19]:\n",
      "6\n",
      "З клавіатури вводится масив. Змінити всі нульові елементи на -1.\n",
      "5 9 0 -3 5 0 3 0 0 4 -3 -4\n",
      "[-1 -1  0 -1 -1  0 -1  0  0 -1 -1 -1]\n"
     ]
    }
   ],
   "source": [
    "task_manager()"
   ]
  },
  {
   "cell_type": "code",
   "execution_count": 170,
   "metadata": {
    "scrolled": true
   },
   "outputs": [
    {
     "name": "stdout",
     "output_type": "stream",
     "text": [
      "Оберіть завдання серед списку [3, 4, 5, 6, 7, 8, 9, 13, 17, 19]:\n",
      "7\n",
      "З клавіатури вводится масив. Замінити всі нульові елементи на -1.\n",
      "5 9 0 -3 5 0 3 0 0 4 -3 -4\n",
      "[ 5  9 -1 -3  5 -1  3 -1 -1  4 -3 -4]\n"
     ]
    }
   ],
   "source": [
    "task_manager()"
   ]
  },
  {
   "cell_type": "code",
   "execution_count": 171,
   "metadata": {},
   "outputs": [
    {
     "name": "stdout",
     "output_type": "stream",
     "text": [
      "Оберіть завдання серед списку [3, 4, 5, 6, 7, 8, 9, 13, 17, 19]:\n",
      "8\n",
      "З клавіатури вводится масив. Підрахувати в ньому кількість нульових та ненульових елементів.\n",
      "5 9 0 -3 5 0 3 0 0 4 -3 -4\n",
      "Нулів:  4\n",
      "Не нулів:  8\n"
     ]
    }
   ],
   "source": [
    "task_manager()"
   ]
  },
  {
   "cell_type": "code",
   "execution_count": 172,
   "metadata": {},
   "outputs": [
    {
     "name": "stdout",
     "output_type": "stream",
     "text": [
      "Оберіть завдання серед списку [3, 4, 5, 6, 7, 8, 9, 13, 17, 19]:\n",
      "9\n",
      "Вводится числа n. Створити масив значень від n до 0.\n",
      "10\n",
      "[10  9  8  7  6  5  4  3  2  1  0]\n"
     ]
    }
   ],
   "source": [
    "task_manager()"
   ]
  },
  {
   "cell_type": "code",
   "execution_count": 173,
   "metadata": {},
   "outputs": [
    {
     "name": "stdout",
     "output_type": "stream",
     "text": [
      "Оберіть завдання серед списку [3, 4, 5, 6, 7, 8, 9, 13, 17, 19]:\n",
      "13\n",
      "В матриці 4х5х6 індексом 100 елементу є (3, 1, 3)\n"
     ]
    }
   ],
   "source": [
    "task_manager()"
   ]
  },
  {
   "cell_type": "code",
   "execution_count": 174,
   "metadata": {},
   "outputs": [
    {
     "name": "stdout",
     "output_type": "stream",
     "text": [
      "Оберіть завдання серед списку [3, 4, 5, 6, 7, 8, 9, 13, 17, 19]:\n",
      "17\n",
      "Вводится числа n. Заповнити вектор значеннями від 0 до n. Всі значення, що більше n/2 та менші за 3n/4 замінити нулями.\n",
      "10\n",
      "[ 0  1  2  0  0  0  0  0  8  9 10]\n"
     ]
    }
   ],
   "source": [
    "task_manager()"
   ]
  },
  {
   "cell_type": "code",
   "execution_count": 175,
   "metadata": {},
   "outputs": [
    {
     "name": "stdout",
     "output_type": "stream",
     "text": [
      "Оберіть завдання серед списку [3, 4, 5, 6, 7, 8, 9, 13, 17, 19]:\n",
      "19\n",
      "Вводится числа n. Згенерувати вектор із n випадкових чисел в діапазоні від 0 до 99. Визначити кількість унікальних чисел послідовності.\n",
      "30\n",
      "В послідовності [60 73 38 25 85 41 36  0 60  5 89 18 65 72 86  6 54 63 53 74 73 76 69 49\n",
      " 15 82 28 61 69 23] - 27 унікальних чисел.\n"
     ]
    }
   ],
   "source": [
    "task_manager()"
   ]
  },
  {
   "cell_type": "markdown",
   "metadata": {},
   "source": [
    "#### Завдання 2. Розв'язати систему методом Крамера та порівняти з методом linalg.solve(): ####\n",
    "$$\n",
    "\\left\\{\n",
    "    \\begin{array}\\\\\n",
    "        2x_1 + x_2 - 5x_3 + x_4 & \\mbox{= } \\ 8 \\\\\n",
    "        x_1 - 3x_2 - 6x_4 & \\mbox{= } \\ 9 \\\\\n",
    "        2x_2 - x_3 + 2x_4 & \\mbox{= } \\ -5 \\\\\n",
    "        x_1 + 4x_2 - 7x_3 + 6x_4 & \\mbox{=} \\ 0\n",
    "    \\end{array}\n",
    "\\right.\n",
    "$$"
   ]
  },
  {
   "cell_type": "code",
   "execution_count": 181,
   "metadata": {},
   "outputs": [
    {
     "name": "stdout",
     "output_type": "stream",
     "text": [
      "Детермінант основної матриці = 27.0\n",
      "\n",
      "[[ 8  1 -5  1]\n",
      " [ 9 -3  0 -6]\n",
      " [-5  2 -1  2]\n",
      " [ 0  4 -7  6]]\n",
      "Детермінант = 80.99999999999996\n",
      "\n",
      "[[ 2  8 -5  1]\n",
      " [ 1  9  0 -6]\n",
      " [ 0 -5 -1  2]\n",
      " [ 1  0 -7  6]]\n",
      "Детермінант-108.00000000000003\n",
      "\n",
      "[[ 2  1  8  1]\n",
      " [ 1 -3  9 -6]\n",
      " [ 0  2 -5  2]\n",
      " [ 1  4  0  6]]\n",
      "Детермінант-27.000000000000014\n",
      "\n",
      "[[ 2  1 -5  8]\n",
      " [ 1 -3  0  9]\n",
      " [ 0  2 -1 -5]\n",
      " [ 1  4 -7  0]]\n",
      "Детермінант27.000000000000014\n",
      "Власна реалізація методу Крамера: 2.9999999999999982 -4.000000000000001 -1.0000000000000004 1.0000000000000004\n",
      "Перевірка методом linalg.solve(): True\n"
     ]
    }
   ],
   "source": [
    "ex_2()"
   ]
  },
  {
   "cell_type": "markdown",
   "metadata": {},
   "source": [
    "#### Завдання 3. Обчислити значення матричного виразу: ####\n",
    "\n",
    "$$\n",
    "2(A-0,5B)+AB, де A = \n",
    "\\begin{pmatrix}\\\n",
    "    5 & 3 & -1 \\\\\n",
    "    2 & -2 & 0 \\\\\n",
    "    3 & -1 & 2 \n",
    "\\end{pmatrix}\n",
    " B =\n",
    "\\begin{pmatrix}\\\n",
    "    1 & 4 & 16 \\\\\n",
    "    -3 & -2 & 0 \\\\\n",
    "    5 & 7 & 2 \n",
    "\\end{pmatrix}\n",
    "$$"
   ]
  },
  {
   "cell_type": "code",
   "execution_count": 137,
   "metadata": {},
   "outputs": [
    {
     "name": "stdout",
     "output_type": "stream",
     "text": [
      "2(A-0.5B) + AB:\n",
      " [[ 14.  14. -34.]\n",
      " [  1.   2.   0.]\n",
      " [ 16. -16.   6.]]\n"
     ]
    }
   ],
   "source": [
    "ex_3()"
   ]
  },
  {
   "cell_type": "markdown",
   "metadata": {},
   "source": [
    "#### Завдання 4. Розв'язати рівняння за допомогою оберненої матриці й перевірити методом allclose() ####\n",
    "$$\n",
    "\\begin{pmatrix}\\\n",
    "    5 & 3 & -1 \\\\\n",
    "    2 & -2 & 0 \\\\\n",
    "    3 & -1 & 2 \n",
    "\\end{pmatrix}\n",
    "*X =\n",
    "\\begin{pmatrix}\\\n",
    "    1 & 4 & 16 \\\\\n",
    "    -3 & -2 & 0 \\\\\n",
    "    5 & 7 & 2 \n",
    "\\end{pmatrix}\n",
    "$$"
   ]
  },
  {
   "cell_type": "code",
   "execution_count": 138,
   "metadata": {},
   "outputs": [
    {
     "name": "stdout",
     "output_type": "stream",
     "text": [
      "Множенням матриць A^(-1)*B отримали X:\n",
      " [[ 1.         -1.12903226  0.        ]\n",
      " [-1.          1.80645161  1.        ]\n",
      " [ 0.          0.90322581  0.        ]]\n",
      "Перевірка, A*X:\n",
      " True\n"
     ]
    }
   ],
   "source": [
    "ex_4()"
   ]
  }
 ],
 "metadata": {
  "kernelspec": {
   "display_name": "Python 3",
   "language": "python",
   "name": "python3"
  },
  "language_info": {
   "codemirror_mode": {
    "name": "ipython",
    "version": 3
   },
   "file_extension": ".py",
   "mimetype": "text/x-python",
   "name": "python",
   "nbconvert_exporter": "python",
   "pygments_lexer": "ipython3",
   "version": "3.7.2"
  }
 },
 "nbformat": 4,
 "nbformat_minor": 4
}
